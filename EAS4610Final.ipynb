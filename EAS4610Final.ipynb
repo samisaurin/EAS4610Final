{
 "cells": [
  {
   "cell_type": "markdown",
   "metadata": {},
   "source": [
    "# Introduction\n",
    "The main theme is the modeling of glacier dynamics. It explores how changes in snowfall and surface altitude affect glacier stability. Kinematic wave theory is used to study how glaciers respond to sudden changes in accumulation, focusing on their sensitivity to climate changes.\n",
    "It is important to understand glacier behavior as it helps predict ice loss, sea-level rise, and climate change impacts. This instability is important for modeling how glaciers respond to climate change.\n",
    "\n",
    "STILL NEED: What observations, models, etc are used by others that are different from what you are doing in the project.\n"
   ]
  },
  {
   "cell_type": "markdown",
   "metadata": {},
   "source": [
    "# Equations"
   ]
  },
  {
   "cell_type": "markdown",
   "metadata": {},
   "source": [
    "The equation that we are looking to solve is the kinematic wave equation which is given by:\n",
    "<p style=\"text-align: center;\">c∂q/∂x + ∂q/∂t = ac</p>\n",
    "\n",
    "Where q is the flow, or the volume of ice, per unit width, that is passing a single point in time, a(x,t) is the rate of accumulation at the surface of the glacier, and c is the the velocity of the 'wave' moving through the glacier."
   ]
  },
  {
   "cell_type": "markdown",
   "metadata": {},
   "source": [
    "# Numerical Methods"
   ]
  },
  {
   "cell_type": "markdown",
   "metadata": {},
   "source": [
    "We are using the forward euler method using the upwind scheme to solve the advection equation, or in our case the kinematic wave equation."
   ]
  },
  {
   "cell_type": "code",
   "execution_count": null,
   "metadata": {},
   "outputs": [],
   "source": [
    "#Import Libraries\n",
    "import numpy as np\n",
    "import matplotlib.pyplot as plt\n",
    "from scipy.sparse import spdiags"
   ]
  },
  {
   "cell_type": "code",
   "execution_count": null,
   "metadata": {},
   "outputs": [],
   "source": [
    "#Set Parameters\n",
    "\n",
    "# c = ? # velocity (m/s)\n",
    "# L = ? # Lengthscale (m)\n",
    "# tf = ? # Final time (s)mmmm\n",
    "# dx = ? # Spatial step (m)\n",
    "# dt = ? # Time step (s)\n",
    "# Cr = u * dt / dx # Courant Number\n",
    "# nt = tf/dt # Number of timesteps (unitless)\n",
    "# nx = L/dx # Number of spatial steps (unitless)\n",
    "x0 = 0 #initial x-value (m)\n",
    "t0 = 0 #initial t-value (s)\n",
    "# q0 = ? # Initial flow value (m^3/m)\n",
    "# a0 = ? # Initial accumulation (m w.e. / s)\n",
    "\n",
    "\n",
    "# Pre-allocate Vectors\n",
    "# np.arange(x0, L, dx)\n",
    "# q_all = np.zeros([nx, nt])\n",
    "\n",
    "# Set IC\n",
    "# q_all[:, 0] = ? \n",
    "# q = q_all[:,0]\n",
    "\n",
    "# Create Matrix\n",
    "# data = np.array([Cr*np.ones(nx), (1-Cr)*np.ones(nx)])\n",
    "# diags = np.array([-1, 0])\n",
    "# M = spdiags(data, diags, nx, nx).toarray()\n",
    "\n",
    "# Set Boundary Conditions\n",
    "# ????\n",
    "\n",
    "# Do Model\n",
    "#  for i in np.arange(1, nt):\n",
    "#      qnew = np.matmul(M,q.transpose())\n",
    "#      q_all[:,i] = qnew.transpose\n",
    "#      q = qnew\n",
    "\n",
    "# return (q)"
   ]
  },
  {
   "cell_type": "markdown",
   "metadata": {},
   "source": [
    "# Results"
   ]
  },
  {
   "cell_type": "markdown",
   "metadata": {},
   "source": [
    "# Figures"
   ]
  },
  {
   "cell_type": "markdown",
   "metadata": {},
   "source": []
  },
  {
   "cell_type": "markdown",
   "metadata": {},
   "source": [
    "# Video Walkthrough"
   ]
  },
  {
   "cell_type": "markdown",
   "metadata": {},
   "source": [
    "# References"
   ]
  }
 ],
 "metadata": {
  "kernelspec": {
   "display_name": "base",
   "language": "python",
   "name": "python3"
  },
  "language_info": {
   "name": "python",
   "version": "3.12.3"
  }
 },
 "nbformat": 4,
 "nbformat_minor": 2
}
